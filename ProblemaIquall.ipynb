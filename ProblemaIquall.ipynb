{
  "nbformat": 4,
  "nbformat_minor": 0,
  "metadata": {
    "colab": {
      "name": "ProblemaIquall.ipynb",
      "provenance": [],
      "collapsed_sections": [],
      "authorship_tag": "ABX9TyNF6ZNpo76uato4D6ub4t8/",
      "include_colab_link": true
    },
    "kernelspec": {
      "name": "python3",
      "display_name": "Python 3"
    },
    "language_info": {
      "name": "python"
    }
  },
  "cells": [
    {
      "cell_type": "markdown",
      "metadata": {
        "id": "view-in-github",
        "colab_type": "text"
      },
      "source": [
        "<a href=\"https://colab.research.google.com/github/emanuelacm/Informe/blob/main/ProblemaIquall.ipynb\" target=\"_parent\"><img src=\"https://colab.research.google.com/assets/colab-badge.svg\" alt=\"Open In Colab\"/></a>"
      ]
    },
    {
      "cell_type": "markdown",
      "source": [
        "Para poder escribir una carta con una revista, no solo basta con ver si las letras están presentes en la revista, sino que además hay que corroborar que las mismas estén la misma cantidad de veces que aparecen en la carta. Es decir si en la carta hay dos \"a\" necesito que existan dos \"a\" en la revista. Si existe una letra con acento, también debe de existir una letra con acento, y además se deben diferenciar entre mayúsculas y minúsculas. Para ello se debería identificar el texto presente en una imagen, que puede ser el escaneo de una revista. Luego se debe contar la cantidad de letras presentes en el artículo y finalmente verificar si esa cantidad es suficiente para la carta."
      ],
      "metadata": {
        "id": "jUArITVJAoTc"
      }
    },
    {
      "cell_type": "code",
      "source": [
        "!sudo apt install tesseract-ocr\n",
        "!pip install opencv-python\n",
        "!pip install pytesseract\n",
        "!sudo apt-get install libtesseract-dev\n",
        "!pip install --ignore-installed Pillow==9.0.0"
      ],
      "metadata": {
        "colab": {
          "base_uri": "https://localhost:8080/",
          "height": 592
        },
        "id": "2RN7WPlXDoh9",
        "outputId": "bf1b8d83-22db-4045-8f7b-b8f4231ea903"
      },
      "execution_count": 1,
      "outputs": [
        {
          "output_type": "stream",
          "name": "stdout",
          "text": [
            "Reading package lists... Done\n",
            "Building dependency tree       \n",
            "Reading state information... Done\n",
            "tesseract-ocr is already the newest version (4.00~git2288-10f4998a-2).\n",
            "The following packages were automatically installed and are no longer required:\n",
            "  libnvidia-common-460 nsight-compute-2020.2.0\n",
            "Use 'sudo apt autoremove' to remove them.\n",
            "0 upgraded, 0 newly installed, 0 to remove and 42 not upgraded.\n",
            "Requirement already satisfied: opencv-python in /usr/local/lib/python3.7/dist-packages (4.1.2.30)\n",
            "Requirement already satisfied: numpy>=1.14.5 in /usr/local/lib/python3.7/dist-packages (from opencv-python) (1.21.6)\n",
            "Requirement already satisfied: pytesseract in /usr/local/lib/python3.7/dist-packages (0.3.9)\n",
            "Requirement already satisfied: packaging>=21.3 in /usr/local/lib/python3.7/dist-packages (from pytesseract) (21.3)\n",
            "Requirement already satisfied: Pillow>=8.0.0 in /usr/local/lib/python3.7/dist-packages (from pytesseract) (9.1.0)\n",
            "Requirement already satisfied: pyparsing!=3.0.5,>=2.0.2 in /usr/local/lib/python3.7/dist-packages (from packaging>=21.3->pytesseract) (3.0.8)\n",
            "Reading package lists... Done\n",
            "Building dependency tree       \n",
            "Reading state information... Done\n",
            "libtesseract-dev is already the newest version (4.00~git2288-10f4998a-2).\n",
            "The following packages were automatically installed and are no longer required:\n",
            "  libnvidia-common-460 nsight-compute-2020.2.0\n",
            "Use 'sudo apt autoremove' to remove them.\n",
            "0 upgraded, 0 newly installed, 0 to remove and 42 not upgraded.\n",
            "Collecting Pillow==9.0.0\n",
            "  Using cached Pillow-9.0.0-cp37-cp37m-manylinux_2_17_x86_64.manylinux2014_x86_64.whl (4.3 MB)\n",
            "Installing collected packages: Pillow\n",
            "\u001b[31mERROR: pip's dependency resolver does not currently take into account all the packages that are installed. This behaviour is the source of the following dependency conflicts.\n",
            "albumentations 0.1.12 requires imgaug<0.2.7,>=0.2.5, but you have imgaug 0.2.9 which is incompatible.\u001b[0m\n",
            "Successfully installed Pillow-9.1.0\n"
          ]
        },
        {
          "output_type": "display_data",
          "data": {
            "application/vnd.colab-display-data+json": {
              "pip_warning": {
                "packages": [
                  "PIL"
                ]
              }
            }
          },
          "metadata": {}
        }
      ]
    },
    {
      "cell_type": "code",
      "source": [
        "import cv2\n",
        "\n",
        "import pytesseract as tes\n",
        "import shutil\n",
        "import os\n",
        "import random\n",
        "try:\n",
        " from PIL import Image\n",
        "except ImportError:\n",
        " import Image\n"
      ],
      "metadata": {
        "id": "e90fcqFzBweK"
      },
      "execution_count": 2,
      "outputs": []
    },
    {
      "cell_type": "code",
      "source": [
        "from google.colab import files\n",
        "#uploaded = files.upload()\n",
        "\n",
        "img=cv2.imread('imagen_pagina_3.png')\n",
        "#paso la imagen a texto\n",
        "art=tes.image_to_string(img,lang=\"eng+spa\").replace(' ','')\n",
        "art=\" \".join(art.split())\n",
        "print(art)"
      ],
      "metadata": {
        "colab": {
          "base_uri": "https://localhost:8080/"
        },
        "id": "RUGWA1IIFojC",
        "outputId": "80869ce2-b01a-4128-9310-c7476fae2112"
      },
      "execution_count": 48,
      "outputs": [
        {
          "output_type": "stream",
          "name": "stdout",
          "text": [
            "GETTYIMAGES/WILDPIXEL/ISTOCK Presentacion Losentresijosdeun6rganodifuso 1sisLemainmunilLario,un6rga- nodispersoporLodoelcuerpo, seencargadevigilarymanle- nerelorden[renLeaLodoLipo deagresiones,procedandelexterioro delinterior.Laredcomplejadecélulas, lejidosyproleinasquelocomponenes unaliadoineslimableparanueslrasu- pervivencia.Peroédequémodorespon- deadistintasenfermedadesoataques? éPorquéaveces[allaosedescontrolay destruyelaspropiascélulasdelcuerpo? éQuéeslralegiasLerapéulicasseeslan desarrollandoparareforzarlo0corregir suserrores? Elpresenlemonogralicorecopilaal- gunosdelosavancesmasrecienLessobre losenLresijosdelsistemainmunilarioen diversasdolencias,losfallosquecomeLle ylosLralamientlosqueseeslLandesarro- llandoenbaseaesLosconocimienLos. Lasdefensasdelcuerporesponden alasenfermedadesdedislinlasmane- rasdependiendodeunagranvariedad defaclores,entreelloslaedadoelori- gengeogralicodelapoblaciénafectada, comosucedeenlagripe(pag.6).Lasdifle- renciaspersonalesenlarespueslainmu- nilariayenelprondsticodelaenferme- dadLambiénsehanhechopatentesenla aclualpandemiadeCOVID-19.¢Porqué algunospacientessufrenunarespuesla exacerbadaynologranvencerlainfec- cién?(pag.12).¢Quépapeldesempejfala inflamaci6nenlainmunidadyporqué enocasionessedescontrola?(pag.20). Otradelaspeculiaridadesdelsislema inmuniLarioessuesLrecharelaci6ncon elsisLemanervioso(pag.26).Dehecho, ambos6rganosseasemejanencomple- jidadyensupresenciaenlamayoria delosLtejidosdelcuerpo.Inclusoseha descubierloquecierlosrecepLoresgus- lalivosreparLlidospordiversosérganos desempenanunafunciénimportante paralainmunidad(pag.34). Aveces,nueslrasdefensassevuelven contranosoLrosmismos.ElaLaqueinmu- nilariocontralosLejidossanos,conocido comoauloinmunidad,inLervieneennu- merosasenfermedades,comoladiabeLes deLipo1,lapsoriasisyellupus(pag.40). Unapreguntaclaveesquéhacequeal- gunaspersonasseanmdspropensasa lasenfermedadesauloinmunilariasque olrasyporquéafeclanmasalsexo[e- menino(pdg.46). Amedidaqueseaclaranlosmecanis- mosquesubyacenalasenfermedadesy loserroresdelsisLemainmunilario,lam- biénlohacenlasoportunidadesdenuevos lralamienLlos.Losmodernosandlisisde genesylaingenierfamolecularpermilen idenlificarnuevasdianasconqueLralar losLrasLornosauloinmunilariosconmu- chamasprecisi6n(pdg.54).Tambiénse esLaeslLudiandolaeslimulaci6neléctrica delnerviovagocomoallernalivaalos[Ar- macosanliinflamaLorioseinmunodepre- sores(pdg.62).¥lacomprensiondelmodo enqueelcAncerengafialasdefensasdel cuerpoparaquenoreconozcancomoun peligrolascélulasLumoraleseslapermi- liendodesarrollarinmunolerapiasconLra eslaenfermedad(pdg.70). Lasvacunas,queensefianalsisLema inmunilLarioalucharcontralasinfeccio- nes,sonlainLervencionmédicaquemas vidashacontribuidoasalvarenLodala historiahumana.AlgunosLrabajosin- dicanqueunasolavacunapuedeprole- gerconLramuchasoLrasenfermedades, ademasdealaquevadirigida(pdg.80). Ymedianteunaestralegiasimilaralas vacunas,seeslLandesarrollandonuevas medidasparaevilarlasreaccionesin- munilariasadversasdesencadenadas poralgunos[Aarmacos(pédg.90). InvilamosanuestroslecLoresadescu- brirenlassiguienLespaginaslasinleriori- dadesdenuestrainmunidad.Esperamos quedisfrutendelaselaboradasinfogra- fias,queilustranyayudanacomprender mejorlosprocesosdeeslecomplejoein- trincadosisLema. —Laredacctin EsteeseliltimontimeroquesepublicadelaColecci6nTEMASdelyC. Paracuestionesrelacionadasconsususcripcién:www.investigacionycienc .es/faq LasDE:$DELCUERPO1\n"
          ]
        }
      ]
    },
    {
      "cell_type": "code",
      "source": [
        "from collections import Counter\n",
        "#cuento las letras presentes en la carta\n",
        "counter=Counter(art)"
      ],
      "metadata": {
        "id": "U2PKEGE4QEsI"
      },
      "execution_count": 52,
      "outputs": []
    },
    {
      "cell_type": "code",
      "source": [
        "print(counter[' '])"
      ],
      "metadata": {
        "colab": {
          "base_uri": "https://localhost:8080/"
        },
        "id": "e_XpDo4dQ5sI",
        "outputId": "6f4b74cd-2eed-4c3d-8c50-0c2aada3504d"
      },
      "execution_count": 38,
      "outputs": [
        {
          "output_type": "stream",
          "name": "stdout",
          "text": [
            "102\n"
          ]
        }
      ]
    },
    {
      "cell_type": "code",
      "source": [
        "# leo la carta que quiero escribir\n",
        "f = open('carta.txt','r')\n",
        "carta=f.read().replace(' ','')\n",
        "\n",
        "#carta=\"mundo\"\n",
        "\n",
        "print(carta)"
      ],
      "metadata": {
        "colab": {
          "base_uri": "https://localhost:8080/"
        },
        "id": "A2_qodbQRg81",
        "outputId": "25998b2b-d68d-401e-ed97-2f07379f4894"
      },
      "execution_count": 63,
      "outputs": [
        {
          "output_type": "stream",
          "name": "stdout",
          "text": [
            "Analizarunprocesorealizadoporunapersonafísica,entenderlospasosqueserealizanendichoproceso,yredactarelprocesooalgoritmoquereflejalospasosnecesariospararealizardichaactividad.\n",
            "\n"
          ]
        }
      ]
    },
    {
      "cell_type": "code",
      "source": [
        "counter_carta=Counter(carta)\n",
        "\n",
        "#variable que sirve para controlar si se terminó el loop\n",
        "c=0\n",
        "\n",
        "\n",
        "for i in counter_carta:\n",
        "  if counter[i] < counter_carta[i]:\n",
        "    print(\"No hay suficientes '{}' para escribir la carta \".format(i))\n",
        "    c=1\n",
        "    break\n",
        "\n",
        "if c==0:  \n",
        "  print(\"Se puede escribir la carta\")"
      ],
      "metadata": {
        "colab": {
          "base_uri": "https://localhost:8080/"
        },
        "id": "KRGw6CbmW9zT",
        "outputId": "9da56282-44aa-4c94-d1b8-e3e805434769"
      },
      "execution_count": 64,
      "outputs": [
        {
          "output_type": "stream",
          "name": "stdout",
          "text": [
            "No hay suficientes 'z' para escribir la carta \n"
          ]
        }
      ]
    }
  ]
}